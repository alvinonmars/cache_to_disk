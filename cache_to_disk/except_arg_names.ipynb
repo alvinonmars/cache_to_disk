{
 "cells": [
  {
   "cell_type": "code",
   "execution_count": 2,
   "metadata": {},
   "outputs": [
    {
     "name": "stdout",
     "output_type": "stream",
     "text": [
      "original_func name: gen_LOBDatasets\n",
      "args: ()\n",
      "kwargs: {'symbol_id': 'ETHUSDT', 'cusum_vol_clip': [0.0001, 0.0002], 'target_filter': 0.0003}\n"
     ]
    }
   ],
   "source": [
    "from typing import Any, Callable, List, Optional, Type\n",
    "\n",
    "def print_args_kwargs(except_arg_names: List[str] = []) -> Callable:\n",
    "    def decorating_function(original_function: Callable) -> Callable:\n",
    "        wrapper = _print_args_kwargs_wrapper(original_function, except_arg_names)\n",
    "        return wrapper\n",
    "\n",
    "    return decorating_function\n",
    "\n",
    "\n",
    "def _print_args_kwargs_wrapper(\n",
    "    original_func: Callable, except_arg_names: List[str] = []\n",
    ") -> Callable: \n",
    "\n",
    "    def wrapper(*args, **kwargs) -> Any:\n",
    "        if len(except_arg_names) >0:\n",
    "            assert len(args) == 0, \"args should be empty\"\n",
    "        for arg_name in except_arg_names:\n",
    "            if arg_name in kwargs:\n",
    "                kwargs.pop(arg_name)\n",
    "        \n",
    "        args_str = str(args)    \n",
    "        kwargs_str = str(kwargs)\n",
    "        print(f\"original_func name: {original_func.__name__}\")\n",
    "        print(f\"args: {args_str}\")\n",
    "        print(f\"kwargs: {kwargs_str}\")\n",
    "    return wrapper\n",
    "\n",
    "@print_args_kwargs(except_arg_names=['datasets'])\n",
    "def gen_LOBDatasets(datasets,\n",
    "                    symbol_id,\n",
    "                        cusum_vol_clip = [0.0002,0.0004] ,# lower and more samples\n",
    "                        target_filter = 0.0005,\n",
    "):\n",
    "    pass\n",
    "\n",
    "datasets = [1,2,3]\n",
    "gen_LOBDatasets(datasets=datasets,symbol_id='ETHUSDT',cusum_vol_clip=[0.0001,0.0002],target_filter=0.0003)"
   ]
  }
 ],
 "metadata": {
  "kernelspec": {
   "display_name": "lightning",
   "language": "python",
   "name": "python3"
  },
  "language_info": {
   "codemirror_mode": {
    "name": "ipython",
    "version": 3
   },
   "file_extension": ".py",
   "mimetype": "text/x-python",
   "name": "python",
   "nbconvert_exporter": "python",
   "pygments_lexer": "ipython3",
   "version": "3.8.19"
  }
 },
 "nbformat": 4,
 "nbformat_minor": 2
}
